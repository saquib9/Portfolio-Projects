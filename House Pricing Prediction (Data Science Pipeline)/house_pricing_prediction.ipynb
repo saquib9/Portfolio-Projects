{
 "cells": [
  {
   "cell_type": "markdown",
   "id": "49bcb7b9-1882-403e-b292-0583716c3622",
   "metadata": {},
   "source": [
    "<span style=\"color:#7200CC; font-size:30px;\">House Pricing Prediction - Full Data Science Pipeline</span>"
   ]
  },
  {
   "cell_type": "code",
   "execution_count": 1,
   "id": "ad9d53d6-1dda-4402-a00e-77d243e253d9",
   "metadata": {},
   "outputs": [],
   "source": [
    "import pandas as pd\n",
    "import numpy as np\n",
    "from matplotlib import pyplot as plt\n",
    "%matplotlib inline\n",
    "import matplotlib \n",
    "matplotlib.rcParams[\"figure.figsize\"] = (20,10)"
   ]
  },
  {
   "cell_type": "markdown",
   "id": "50656736-8f69-42c9-baa0-e50bfc6a15eb",
   "metadata": {},
   "source": [
    "<span style=\"color:green; font-size:25px;\">Data Loading</span>"
   ]
  },
  {
   "cell_type": "code",
   "execution_count": 2,
   "id": "5b4a722b-2fe1-43b4-b945-ee9f0bf87ff7",
   "metadata": {
    "scrolled": true
   },
   "outputs": [
    {
     "ename": "FileNotFoundError",
     "evalue": "[Errno 2] No such file or directory: 'house_prices_data.csv'",
     "output_type": "error",
     "traceback": [
      "\u001b[0;31m---------------------------------------------------------------------------\u001b[0m",
      "\u001b[0;31mFileNotFoundError\u001b[0m                         Traceback (most recent call last)",
      "Cell \u001b[0;32mIn[2], line 1\u001b[0m\n\u001b[0;32m----> 1\u001b[0m df1 \u001b[38;5;241m=\u001b[39m \u001b[43mpd\u001b[49m\u001b[38;5;241;43m.\u001b[39;49m\u001b[43mread_csv\u001b[49m\u001b[43m(\u001b[49m\u001b[38;5;124;43m\"\u001b[39;49m\u001b[38;5;124;43mhouse_prices_data.csv\u001b[39;49m\u001b[38;5;124;43m\"\u001b[39;49m\u001b[43m)\u001b[49m\n\u001b[1;32m      2\u001b[0m df1\u001b[38;5;241m.\u001b[39mhead()\n",
      "File \u001b[0;32m/Library/Frameworks/Python.framework/Versions/3.10/lib/python3.10/site-packages/pandas/io/parsers/readers.py:1026\u001b[0m, in \u001b[0;36mread_csv\u001b[0;34m(filepath_or_buffer, sep, delimiter, header, names, index_col, usecols, dtype, engine, converters, true_values, false_values, skipinitialspace, skiprows, skipfooter, nrows, na_values, keep_default_na, na_filter, verbose, skip_blank_lines, parse_dates, infer_datetime_format, keep_date_col, date_parser, date_format, dayfirst, cache_dates, iterator, chunksize, compression, thousands, decimal, lineterminator, quotechar, quoting, doublequote, escapechar, comment, encoding, encoding_errors, dialect, on_bad_lines, delim_whitespace, low_memory, memory_map, float_precision, storage_options, dtype_backend)\u001b[0m\n\u001b[1;32m   1013\u001b[0m kwds_defaults \u001b[38;5;241m=\u001b[39m _refine_defaults_read(\n\u001b[1;32m   1014\u001b[0m     dialect,\n\u001b[1;32m   1015\u001b[0m     delimiter,\n\u001b[0;32m   (...)\u001b[0m\n\u001b[1;32m   1022\u001b[0m     dtype_backend\u001b[38;5;241m=\u001b[39mdtype_backend,\n\u001b[1;32m   1023\u001b[0m )\n\u001b[1;32m   1024\u001b[0m kwds\u001b[38;5;241m.\u001b[39mupdate(kwds_defaults)\n\u001b[0;32m-> 1026\u001b[0m \u001b[38;5;28;01mreturn\u001b[39;00m \u001b[43m_read\u001b[49m\u001b[43m(\u001b[49m\u001b[43mfilepath_or_buffer\u001b[49m\u001b[43m,\u001b[49m\u001b[43m \u001b[49m\u001b[43mkwds\u001b[49m\u001b[43m)\u001b[49m\n",
      "File \u001b[0;32m/Library/Frameworks/Python.framework/Versions/3.10/lib/python3.10/site-packages/pandas/io/parsers/readers.py:620\u001b[0m, in \u001b[0;36m_read\u001b[0;34m(filepath_or_buffer, kwds)\u001b[0m\n\u001b[1;32m    617\u001b[0m _validate_names(kwds\u001b[38;5;241m.\u001b[39mget(\u001b[38;5;124m\"\u001b[39m\u001b[38;5;124mnames\u001b[39m\u001b[38;5;124m\"\u001b[39m, \u001b[38;5;28;01mNone\u001b[39;00m))\n\u001b[1;32m    619\u001b[0m \u001b[38;5;66;03m# Create the parser.\u001b[39;00m\n\u001b[0;32m--> 620\u001b[0m parser \u001b[38;5;241m=\u001b[39m \u001b[43mTextFileReader\u001b[49m\u001b[43m(\u001b[49m\u001b[43mfilepath_or_buffer\u001b[49m\u001b[43m,\u001b[49m\u001b[43m \u001b[49m\u001b[38;5;241;43m*\u001b[39;49m\u001b[38;5;241;43m*\u001b[39;49m\u001b[43mkwds\u001b[49m\u001b[43m)\u001b[49m\n\u001b[1;32m    622\u001b[0m \u001b[38;5;28;01mif\u001b[39;00m chunksize \u001b[38;5;129;01mor\u001b[39;00m iterator:\n\u001b[1;32m    623\u001b[0m     \u001b[38;5;28;01mreturn\u001b[39;00m parser\n",
      "File \u001b[0;32m/Library/Frameworks/Python.framework/Versions/3.10/lib/python3.10/site-packages/pandas/io/parsers/readers.py:1620\u001b[0m, in \u001b[0;36mTextFileReader.__init__\u001b[0;34m(self, f, engine, **kwds)\u001b[0m\n\u001b[1;32m   1617\u001b[0m     \u001b[38;5;28mself\u001b[39m\u001b[38;5;241m.\u001b[39moptions[\u001b[38;5;124m\"\u001b[39m\u001b[38;5;124mhas_index_names\u001b[39m\u001b[38;5;124m\"\u001b[39m] \u001b[38;5;241m=\u001b[39m kwds[\u001b[38;5;124m\"\u001b[39m\u001b[38;5;124mhas_index_names\u001b[39m\u001b[38;5;124m\"\u001b[39m]\n\u001b[1;32m   1619\u001b[0m \u001b[38;5;28mself\u001b[39m\u001b[38;5;241m.\u001b[39mhandles: IOHandles \u001b[38;5;241m|\u001b[39m \u001b[38;5;28;01mNone\u001b[39;00m \u001b[38;5;241m=\u001b[39m \u001b[38;5;28;01mNone\u001b[39;00m\n\u001b[0;32m-> 1620\u001b[0m \u001b[38;5;28mself\u001b[39m\u001b[38;5;241m.\u001b[39m_engine \u001b[38;5;241m=\u001b[39m \u001b[38;5;28;43mself\u001b[39;49m\u001b[38;5;241;43m.\u001b[39;49m\u001b[43m_make_engine\u001b[49m\u001b[43m(\u001b[49m\u001b[43mf\u001b[49m\u001b[43m,\u001b[49m\u001b[43m \u001b[49m\u001b[38;5;28;43mself\u001b[39;49m\u001b[38;5;241;43m.\u001b[39;49m\u001b[43mengine\u001b[49m\u001b[43m)\u001b[49m\n",
      "File \u001b[0;32m/Library/Frameworks/Python.framework/Versions/3.10/lib/python3.10/site-packages/pandas/io/parsers/readers.py:1880\u001b[0m, in \u001b[0;36mTextFileReader._make_engine\u001b[0;34m(self, f, engine)\u001b[0m\n\u001b[1;32m   1878\u001b[0m     \u001b[38;5;28;01mif\u001b[39;00m \u001b[38;5;124m\"\u001b[39m\u001b[38;5;124mb\u001b[39m\u001b[38;5;124m\"\u001b[39m \u001b[38;5;129;01mnot\u001b[39;00m \u001b[38;5;129;01min\u001b[39;00m mode:\n\u001b[1;32m   1879\u001b[0m         mode \u001b[38;5;241m+\u001b[39m\u001b[38;5;241m=\u001b[39m \u001b[38;5;124m\"\u001b[39m\u001b[38;5;124mb\u001b[39m\u001b[38;5;124m\"\u001b[39m\n\u001b[0;32m-> 1880\u001b[0m \u001b[38;5;28mself\u001b[39m\u001b[38;5;241m.\u001b[39mhandles \u001b[38;5;241m=\u001b[39m \u001b[43mget_handle\u001b[49m\u001b[43m(\u001b[49m\n\u001b[1;32m   1881\u001b[0m \u001b[43m    \u001b[49m\u001b[43mf\u001b[49m\u001b[43m,\u001b[49m\n\u001b[1;32m   1882\u001b[0m \u001b[43m    \u001b[49m\u001b[43mmode\u001b[49m\u001b[43m,\u001b[49m\n\u001b[1;32m   1883\u001b[0m \u001b[43m    \u001b[49m\u001b[43mencoding\u001b[49m\u001b[38;5;241;43m=\u001b[39;49m\u001b[38;5;28;43mself\u001b[39;49m\u001b[38;5;241;43m.\u001b[39;49m\u001b[43moptions\u001b[49m\u001b[38;5;241;43m.\u001b[39;49m\u001b[43mget\u001b[49m\u001b[43m(\u001b[49m\u001b[38;5;124;43m\"\u001b[39;49m\u001b[38;5;124;43mencoding\u001b[39;49m\u001b[38;5;124;43m\"\u001b[39;49m\u001b[43m,\u001b[49m\u001b[43m \u001b[49m\u001b[38;5;28;43;01mNone\u001b[39;49;00m\u001b[43m)\u001b[49m\u001b[43m,\u001b[49m\n\u001b[1;32m   1884\u001b[0m \u001b[43m    \u001b[49m\u001b[43mcompression\u001b[49m\u001b[38;5;241;43m=\u001b[39;49m\u001b[38;5;28;43mself\u001b[39;49m\u001b[38;5;241;43m.\u001b[39;49m\u001b[43moptions\u001b[49m\u001b[38;5;241;43m.\u001b[39;49m\u001b[43mget\u001b[49m\u001b[43m(\u001b[49m\u001b[38;5;124;43m\"\u001b[39;49m\u001b[38;5;124;43mcompression\u001b[39;49m\u001b[38;5;124;43m\"\u001b[39;49m\u001b[43m,\u001b[49m\u001b[43m \u001b[49m\u001b[38;5;28;43;01mNone\u001b[39;49;00m\u001b[43m)\u001b[49m\u001b[43m,\u001b[49m\n\u001b[1;32m   1885\u001b[0m \u001b[43m    \u001b[49m\u001b[43mmemory_map\u001b[49m\u001b[38;5;241;43m=\u001b[39;49m\u001b[38;5;28;43mself\u001b[39;49m\u001b[38;5;241;43m.\u001b[39;49m\u001b[43moptions\u001b[49m\u001b[38;5;241;43m.\u001b[39;49m\u001b[43mget\u001b[49m\u001b[43m(\u001b[49m\u001b[38;5;124;43m\"\u001b[39;49m\u001b[38;5;124;43mmemory_map\u001b[39;49m\u001b[38;5;124;43m\"\u001b[39;49m\u001b[43m,\u001b[49m\u001b[43m \u001b[49m\u001b[38;5;28;43;01mFalse\u001b[39;49;00m\u001b[43m)\u001b[49m\u001b[43m,\u001b[49m\n\u001b[1;32m   1886\u001b[0m \u001b[43m    \u001b[49m\u001b[43mis_text\u001b[49m\u001b[38;5;241;43m=\u001b[39;49m\u001b[43mis_text\u001b[49m\u001b[43m,\u001b[49m\n\u001b[1;32m   1887\u001b[0m \u001b[43m    \u001b[49m\u001b[43merrors\u001b[49m\u001b[38;5;241;43m=\u001b[39;49m\u001b[38;5;28;43mself\u001b[39;49m\u001b[38;5;241;43m.\u001b[39;49m\u001b[43moptions\u001b[49m\u001b[38;5;241;43m.\u001b[39;49m\u001b[43mget\u001b[49m\u001b[43m(\u001b[49m\u001b[38;5;124;43m\"\u001b[39;49m\u001b[38;5;124;43mencoding_errors\u001b[39;49m\u001b[38;5;124;43m\"\u001b[39;49m\u001b[43m,\u001b[49m\u001b[43m \u001b[49m\u001b[38;5;124;43m\"\u001b[39;49m\u001b[38;5;124;43mstrict\u001b[39;49m\u001b[38;5;124;43m\"\u001b[39;49m\u001b[43m)\u001b[49m\u001b[43m,\u001b[49m\n\u001b[1;32m   1888\u001b[0m \u001b[43m    \u001b[49m\u001b[43mstorage_options\u001b[49m\u001b[38;5;241;43m=\u001b[39;49m\u001b[38;5;28;43mself\u001b[39;49m\u001b[38;5;241;43m.\u001b[39;49m\u001b[43moptions\u001b[49m\u001b[38;5;241;43m.\u001b[39;49m\u001b[43mget\u001b[49m\u001b[43m(\u001b[49m\u001b[38;5;124;43m\"\u001b[39;49m\u001b[38;5;124;43mstorage_options\u001b[39;49m\u001b[38;5;124;43m\"\u001b[39;49m\u001b[43m,\u001b[49m\u001b[43m \u001b[49m\u001b[38;5;28;43;01mNone\u001b[39;49;00m\u001b[43m)\u001b[49m\u001b[43m,\u001b[49m\n\u001b[1;32m   1889\u001b[0m \u001b[43m\u001b[49m\u001b[43m)\u001b[49m\n\u001b[1;32m   1890\u001b[0m \u001b[38;5;28;01massert\u001b[39;00m \u001b[38;5;28mself\u001b[39m\u001b[38;5;241m.\u001b[39mhandles \u001b[38;5;129;01mis\u001b[39;00m \u001b[38;5;129;01mnot\u001b[39;00m \u001b[38;5;28;01mNone\u001b[39;00m\n\u001b[1;32m   1891\u001b[0m f \u001b[38;5;241m=\u001b[39m \u001b[38;5;28mself\u001b[39m\u001b[38;5;241m.\u001b[39mhandles\u001b[38;5;241m.\u001b[39mhandle\n",
      "File \u001b[0;32m/Library/Frameworks/Python.framework/Versions/3.10/lib/python3.10/site-packages/pandas/io/common.py:873\u001b[0m, in \u001b[0;36mget_handle\u001b[0;34m(path_or_buf, mode, encoding, compression, memory_map, is_text, errors, storage_options)\u001b[0m\n\u001b[1;32m    868\u001b[0m \u001b[38;5;28;01melif\u001b[39;00m \u001b[38;5;28misinstance\u001b[39m(handle, \u001b[38;5;28mstr\u001b[39m):\n\u001b[1;32m    869\u001b[0m     \u001b[38;5;66;03m# Check whether the filename is to be opened in binary mode.\u001b[39;00m\n\u001b[1;32m    870\u001b[0m     \u001b[38;5;66;03m# Binary mode does not support 'encoding' and 'newline'.\u001b[39;00m\n\u001b[1;32m    871\u001b[0m     \u001b[38;5;28;01mif\u001b[39;00m ioargs\u001b[38;5;241m.\u001b[39mencoding \u001b[38;5;129;01mand\u001b[39;00m \u001b[38;5;124m\"\u001b[39m\u001b[38;5;124mb\u001b[39m\u001b[38;5;124m\"\u001b[39m \u001b[38;5;129;01mnot\u001b[39;00m \u001b[38;5;129;01min\u001b[39;00m ioargs\u001b[38;5;241m.\u001b[39mmode:\n\u001b[1;32m    872\u001b[0m         \u001b[38;5;66;03m# Encoding\u001b[39;00m\n\u001b[0;32m--> 873\u001b[0m         handle \u001b[38;5;241m=\u001b[39m \u001b[38;5;28;43mopen\u001b[39;49m\u001b[43m(\u001b[49m\n\u001b[1;32m    874\u001b[0m \u001b[43m            \u001b[49m\u001b[43mhandle\u001b[49m\u001b[43m,\u001b[49m\n\u001b[1;32m    875\u001b[0m \u001b[43m            \u001b[49m\u001b[43mioargs\u001b[49m\u001b[38;5;241;43m.\u001b[39;49m\u001b[43mmode\u001b[49m\u001b[43m,\u001b[49m\n\u001b[1;32m    876\u001b[0m \u001b[43m            \u001b[49m\u001b[43mencoding\u001b[49m\u001b[38;5;241;43m=\u001b[39;49m\u001b[43mioargs\u001b[49m\u001b[38;5;241;43m.\u001b[39;49m\u001b[43mencoding\u001b[49m\u001b[43m,\u001b[49m\n\u001b[1;32m    877\u001b[0m \u001b[43m            \u001b[49m\u001b[43merrors\u001b[49m\u001b[38;5;241;43m=\u001b[39;49m\u001b[43merrors\u001b[49m\u001b[43m,\u001b[49m\n\u001b[1;32m    878\u001b[0m \u001b[43m            \u001b[49m\u001b[43mnewline\u001b[49m\u001b[38;5;241;43m=\u001b[39;49m\u001b[38;5;124;43m\"\u001b[39;49m\u001b[38;5;124;43m\"\u001b[39;49m\u001b[43m,\u001b[49m\n\u001b[1;32m    879\u001b[0m \u001b[43m        \u001b[49m\u001b[43m)\u001b[49m\n\u001b[1;32m    880\u001b[0m     \u001b[38;5;28;01melse\u001b[39;00m:\n\u001b[1;32m    881\u001b[0m         \u001b[38;5;66;03m# Binary mode\u001b[39;00m\n\u001b[1;32m    882\u001b[0m         handle \u001b[38;5;241m=\u001b[39m \u001b[38;5;28mopen\u001b[39m(handle, ioargs\u001b[38;5;241m.\u001b[39mmode)\n",
      "\u001b[0;31mFileNotFoundError\u001b[0m: [Errno 2] No such file or directory: 'house_prices_data.csv'"
     ]
    }
   ],
   "source": [
    "df1 = pd.read_csv(\"house_prices_data.csv\")\n",
    "df1.head()"
   ]
  },
  {
   "cell_type": "code",
   "execution_count": null,
   "id": "c856cdeb-e01a-423c-bb80-c881cda376cd",
   "metadata": {},
   "outputs": [],
   "source": [
    "df1.shape"
   ]
  },
  {
   "cell_type": "code",
   "execution_count": null,
   "id": "3bed3b8e-1d8a-47bf-bbdf-001037d065e6",
   "metadata": {},
   "outputs": [],
   "source": [
    "df1.describe()"
   ]
  },
  {
   "cell_type": "markdown",
   "id": "fd53ffd2-6664-4584-a131-4795a3a61a1c",
   "metadata": {},
   "source": [
    "<span style=\"color:green; font-size:25px;\">Data Cleaning</span>"
   ]
  },
  {
   "cell_type": "code",
   "execution_count": null,
   "id": "2cf2334d-bc25-4eaa-aa52-97402010ce1d",
   "metadata": {},
   "outputs": [],
   "source": [
    "df1['area_type'].value_counts()"
   ]
  },
  {
   "cell_type": "code",
   "execution_count": null,
   "id": "af94078c-271d-4607-a4b2-9f96755651d2",
   "metadata": {},
   "outputs": [],
   "source": [
    "df2 = df1.drop(['area_type','society','balcony','availability'],axis='columns')\n",
    "df2.shape"
   ]
  },
  {
   "cell_type": "code",
   "execution_count": null,
   "id": "b94823b7-1088-4bdd-bbcf-91d4ff983310",
   "metadata": {},
   "outputs": [],
   "source": [
    "df2.isnull().sum()"
   ]
  },
  {
   "cell_type": "code",
   "execution_count": null,
   "id": "5393984a-f1e2-42cd-9b0b-8a617d2f8594",
   "metadata": {},
   "outputs": [],
   "source": [
    "df3 = df2.dropna()\n",
    "df3.isnull().sum()"
   ]
  },
  {
   "cell_type": "code",
   "execution_count": null,
   "id": "342c9ea3-6e13-4422-9520-5fa33d0b08a6",
   "metadata": {},
   "outputs": [],
   "source": [
    "df3.shape"
   ]
  },
  {
   "cell_type": "code",
   "execution_count": null,
   "id": "d4ac4526-2d44-4a85-b4c0-2c48438e49d0",
   "metadata": {},
   "outputs": [],
   "source": [
    "df3['size'].unique()"
   ]
  },
  {
   "cell_type": "code",
   "execution_count": null,
   "id": "6febe618-07a7-452b-a5a5-994a34e6c4fc",
   "metadata": {},
   "outputs": [],
   "source": [
    "# df3['bhk'] = df3['size'].apply(lambda x: int(x.split(' ')[0]))\n",
    "df3.loc[:, 'bhk'] = df3['size'].apply(lambda x: int(x.split(' ')[0]))\n"
   ]
  },
  {
   "cell_type": "code",
   "execution_count": null,
   "id": "8c235178-5f46-4376-843d-b24c40c6c55b",
   "metadata": {},
   "outputs": [],
   "source": [
    "df3.head()"
   ]
  },
  {
   "cell_type": "code",
   "execution_count": null,
   "id": "4a968b8c-95aa-41bc-b3a5-2a45e0210a44",
   "metadata": {},
   "outputs": [],
   "source": [
    "df3.bhk.unique()"
   ]
  },
  {
   "cell_type": "code",
   "execution_count": null,
   "id": "2b139207-e2e7-446b-9998-362116764ff3",
   "metadata": {},
   "outputs": [],
   "source": [
    "df3[df3['bhk'] > 20]"
   ]
  },
  {
   "cell_type": "code",
   "execution_count": null,
   "id": "894c7048-995b-46b0-bc5d-77931aeb562b",
   "metadata": {},
   "outputs": [],
   "source": [
    "df3.total_sqft.unique()"
   ]
  },
  {
   "cell_type": "code",
   "execution_count": null,
   "id": "5b106d4c-bf76-4af9-b027-e0a6e3f1e639",
   "metadata": {},
   "outputs": [],
   "source": [
    "def is_float(x):\n",
    "    try:\n",
    "        float(x)\n",
    "    except:\n",
    "        return False\n",
    "    return True"
   ]
  },
  {
   "cell_type": "code",
   "execution_count": null,
   "id": "5d591be5-8347-4f55-8211-5b8de01d1d0d",
   "metadata": {},
   "outputs": [],
   "source": [
    "df3[~df3['total_sqft'].apply(is_float)].head(3)"
   ]
  },
  {
   "cell_type": "code",
   "execution_count": null,
   "id": "89f4d50c-8716-4f7b-b5dc-4ea7b883636f",
   "metadata": {},
   "outputs": [],
   "source": [
    "def convert_sqft_to_num(x):\n",
    "    tokens = x.split('-')\n",
    "    if len(tokens) == 2:\n",
    "        y = (float(tokens[0]) + float(tokens[1])) / 2\n",
    "        return y\n",
    "    try:\n",
    "        return float(x)\n",
    "    except:\n",
    "        return None\n",
    "        "
   ]
  },
  {
   "cell_type": "code",
   "execution_count": null,
   "id": "d76a7d18-7504-445a-bbb4-d6de6fa067fd",
   "metadata": {},
   "outputs": [],
   "source": [
    "df4 = df3.copy()\n",
    "df4['total_sqft'] = df4['total_sqft'].apply(convert_sqft_to_num)\n",
    "df4.head(3)"
   ]
  },
  {
   "cell_type": "code",
   "execution_count": null,
   "id": "e79d945b-951b-4e5c-91b7-bb0f8876a415",
   "metadata": {},
   "outputs": [],
   "source": [
    "df4.loc[137]"
   ]
  },
  {
   "cell_type": "markdown",
   "id": "b0a8d37f-d62b-4b92-abb0-a17250f6d444",
   "metadata": {},
   "source": [
    "\n",
    "<span style=\"color:green; font-size:25px;\">Feature Engineering: Add new feature called price per square feet</span>"
   ]
  },
  {
   "cell_type": "code",
   "execution_count": null,
   "id": "e99c564f-905c-4604-bd43-6b0cf0205910",
   "metadata": {},
   "outputs": [],
   "source": [
    "df5 = df4.copy()\n",
    "df5['price_per_sqft'] = df5['price'] * 100000 / df5['total_sqft']\n",
    "df5.head(3)"
   ]
  },
  {
   "cell_type": "code",
   "execution_count": null,
   "id": "cae32ed3-584a-4d6c-9b4d-6fccd17c73f6",
   "metadata": {},
   "outputs": [],
   "source": [
    "len(df5.location.unique())"
   ]
  },
  {
   "cell_type": "code",
   "execution_count": null,
   "id": "67165158-6b6c-4886-ac53-62bd63e35681",
   "metadata": {},
   "outputs": [],
   "source": [
    "df5.location = df5.location.apply(lambda x: x.strip())\n",
    "len(df5.location.unique())"
   ]
  },
  {
   "cell_type": "markdown",
   "id": "95395e36-1e38-43b0-908b-41a553288aa4",
   "metadata": {},
   "source": [
    "<span style=\"color:green; font-size:25px;\">Feature Engineering: Dimensionality Reduction</span>"
   ]
  },
  {
   "cell_type": "code",
   "execution_count": null,
   "id": "0f6575ce-d9b2-47f5-a9fe-69bcd6c36728",
   "metadata": {},
   "outputs": [],
   "source": [
    "location_stats = df5.location.value_counts()\n",
    "location_stats"
   ]
  },
  {
   "cell_type": "code",
   "execution_count": null,
   "id": "a2228578-3b4c-4348-9dcd-ec032706ebcd",
   "metadata": {},
   "outputs": [],
   "source": [
    "len(location_stats[location_stats < 15])"
   ]
  },
  {
   "cell_type": "code",
   "execution_count": null,
   "id": "43fdfb74-e6f4-4b6c-b36b-22a17e9a6ad6",
   "metadata": {},
   "outputs": [],
   "source": [
    "location_count_less_than_15 = location_stats[location_stats <= 15]"
   ]
  },
  {
   "cell_type": "code",
   "execution_count": null,
   "id": "8b2ddcea-505d-4575-beca-9afdd4f31b90",
   "metadata": {},
   "outputs": [],
   "source": [
    "df5.location = df5.location.apply(lambda x: 'other' if x in location_count_less_than_15 else x)"
   ]
  },
  {
   "cell_type": "code",
   "execution_count": null,
   "id": "fe2b9731-32cd-49d1-86c8-87002713df30",
   "metadata": {},
   "outputs": [],
   "source": [
    "df5.head()"
   ]
  },
  {
   "cell_type": "code",
   "execution_count": null,
   "id": "3e1ce94b-952f-434d-af60-d0f9489e44cb",
   "metadata": {},
   "outputs": [],
   "source": [
    "len(df5.location.unique())"
   ]
  },
  {
   "cell_type": "markdown",
   "id": "7469010d-0a0a-40a5-8ff5-c4ce07b1ff61",
   "metadata": {},
   "source": [
    "<span style=\"color:green; font-size:25px;\">Outlier Removal: Using Business Logic</span>"
   ]
  },
  {
   "cell_type": "markdown",
   "id": "98ae24b3-77a8-496d-999e-ad2836be0b81",
   "metadata": {},
   "source": [
    "#### \"The area of an apartment / the number of bedroom < 300 sqft\" is unusual. Data that does not fit this criteria need to be removed."
   ]
  },
  {
   "cell_type": "code",
   "execution_count": null,
   "id": "750d39c0-1cc8-499e-9bcd-409f2d7c87a9",
   "metadata": {},
   "outputs": [],
   "source": [
    "df5[df5.total_sqft/df5.bhk < 300].head()"
   ]
  },
  {
   "cell_type": "code",
   "execution_count": null,
   "id": "a675461d-b32d-405b-87c2-ad3a9b2cf1ec",
   "metadata": {},
   "outputs": [],
   "source": [
    "df5.shape"
   ]
  },
  {
   "cell_type": "code",
   "execution_count": null,
   "id": "b79efb97-1158-4786-a2d2-3678b54ea2fc",
   "metadata": {},
   "outputs": [],
   "source": [
    "df6 = df5[~(df5.total_sqft/df5.bhk < 300)]"
   ]
  },
  {
   "cell_type": "code",
   "execution_count": null,
   "id": "b584de5c-db24-44f8-a3f8-5fdb203e3664",
   "metadata": {},
   "outputs": [],
   "source": [
    "df6.shape"
   ]
  },
  {
   "cell_type": "markdown",
   "id": "7ba4b643-0f9d-4c23-b186-e26621f8c333",
   "metadata": {},
   "source": [
    "<span style=\"color:green; font-size:25px;\">Outlier Removal: Using Standard Deviation and Mean</span>"
   ]
  },
  {
   "cell_type": "code",
   "execution_count": null,
   "id": "55abd9bb-1fd1-47cc-8d3b-6f997d5e64a4",
   "metadata": {},
   "outputs": [],
   "source": [
    "df6.price_per_sqft.describe()"
   ]
  },
  {
   "cell_type": "markdown",
   "id": "66d9e537-047d-4eb8-ac27-789c1650a950",
   "metadata": {},
   "source": [
    "#### Here I found that min price per sqft is 267 currency/sqft whereas max is 176470 currency/sqft, this shows a wide variation in property prices. Therefore, I removed outliers per location using mean and one standard deviation."
   ]
  },
  {
   "cell_type": "code",
   "execution_count": null,
   "id": "ab55eb07-9d14-40a7-bcfa-68dd86283111",
   "metadata": {},
   "outputs": [],
   "source": [
    "def remove_price_per_sqft_outliers(df):\n",
    "    new_df = pd.DataFrame()\n",
    "    for key, broken_df in df.groupby('location'):\n",
    "        mean = np.mean(broken_df.price_per_sqft)\n",
    "        std_dev = np.std(broken_df.price_per_sqft)\n",
    "        reduced_df = broken_df[ ((broken_df.price_per_sqft) < (mean + std_dev) ) & ( (broken_df.price_per_sqft) > (mean - std_dev)) ]\n",
    "        new_df = pd.concat([new_df, reduced_df], ignore_index = True)\n",
    "    return new_df\n",
    "\n",
    "df7 = remove_price_per_sqft_outliers(df6)\n",
    "df7.shape"
   ]
  },
  {
   "cell_type": "code",
   "execution_count": null,
   "id": "884100bc-c781-408a-b69b-5edb2675b2ef",
   "metadata": {},
   "outputs": [],
   "source": [
    "df7.describe()"
   ]
  },
  {
   "cell_type": "markdown",
   "id": "8dd0cd3b-3c5c-46da-ae3b-f196ca19f8d9",
   "metadata": {},
   "source": [
    "#### Let's check for a given location how the 2 BHK and 3 BHK property prices look like"
   ]
  },
  {
   "cell_type": "code",
   "execution_count": null,
   "id": "51e8691d-1437-4af9-a7a4-5e49d71d4482",
   "metadata": {},
   "outputs": [],
   "source": [
    "def plot_scatter_chart(df,location):\n",
    "    bhk_2 = df[(df.location==location) & (df.bhk==2)]\n",
    "    bhk_3 = df[(df.location==location) & (df.bhk==3)]\n",
    "    matplotlib.rcParams['figure.figsize'] = (12,6)\n",
    "    plt.scatter(bhk_2.total_sqft,bhk_2.price,color='blue',label='2 BHK', s=50)\n",
    "    plt.scatter(bhk_3.total_sqft,bhk_3.price,marker='+', color='green',label='3 BHK', s=50)\n",
    "    plt.xlabel(\"Total Square Feet Area\")\n",
    "    plt.ylabel(\"Price (Lakh Indian Rupees)\")\n",
    "    plt.title(location)\n",
    "    plt.legend()\n",
    "    \n",
    "plot_scatter_chart(df7,'Yelahanka')"
   ]
  },
  {
   "cell_type": "markdown",
   "id": "281a54da-8517-4ec8-b19d-320ebdf4fa41",
   "metadata": {},
   "source": [
    "#### Properties should be removed where the price of (for example) 3 bedroom apartment is less than 2 bedroom apartment (with same square ft area) for the same location."
   ]
  },
  {
   "cell_type": "raw",
   "id": "3cc7773d-c7fb-41d4-a4f1-1b69e150dff2",
   "metadata": {},
   "source": [
    "For a given location, we will build a dictionary of stats per bhk, i.e.\n",
    "\n",
    "{\n",
    "    '1' : {\n",
    "        'mean': 3500,\n",
    "        'std: 2000,\n",
    "        'count': 42\n",
    "    },\n",
    "    '2' : {\n",
    "        'mean': 3900,\n",
    "        'std: 2300,\n",
    "        'count': 27\n",
    "    },    \n",
    "}\n"
   ]
  },
  {
   "cell_type": "markdown",
   "id": "6c342e3b-28e2-4d59-8d2c-baabaedca80b",
   "metadata": {},
   "source": [
    "#### 2 BHK apartments whose price_per_sqft is less than mean price_per_sqft of 1 BHK apartment can be removed."
   ]
  },
  {
   "cell_type": "code",
   "execution_count": null,
   "id": "b42ff6c5-38f6-4f6f-9acb-d26c4e6dbd03",
   "metadata": {},
   "outputs": [],
   "source": [
    "def remove_bhk_outliers(df):\n",
    "    exclude_indices = np.array([])\n",
    "    for location, location_df in df.groupby('location'):\n",
    "        bhk_stats = {}\n",
    "        for bhk, bhk_df in location_df.groupby('bhk'):\n",
    "            bhk_stats[bhk] = {\n",
    "                'mean': np.mean(bhk_df.price_per_sqft),\n",
    "                'std': np.std(bhk_df.price_per_sqft),\n",
    "                'count': bhk_df.shape[0]\n",
    "            }\n",
    "        for bhk, bhk_df in location_df.groupby('bhk'):\n",
    "            stats = bhk_stats.get(bhk-1)\n",
    "            if stats and stats['count']>5:\n",
    "                exclude_indices = np.append(exclude_indices, bhk_df[bhk_df.price_per_sqft<(stats['mean'])].index.values)\n",
    "    return df.drop(exclude_indices,axis='index')\n",
    "\n",
    "df8 = remove_bhk_outliers(df7)\n",
    "\n",
    "df8.shape"
   ]
  },
  {
   "cell_type": "markdown",
   "id": "f697d6bd-8ee4-478a-b16d-d9ae39035a24",
   "metadata": {},
   "source": [
    "#### Plot same scatter chart again to visualize price_per_sqft for 2 BHK and 3 BHK properties."
   ]
  },
  {
   "cell_type": "code",
   "execution_count": null,
   "id": "2c5ac152-df20-4095-8111-23fc2723c322",
   "metadata": {},
   "outputs": [],
   "source": [
    "plot_scatter_chart(df8,\"Yelahanka\")"
   ]
  },
  {
   "cell_type": "code",
   "execution_count": null,
   "id": "f8cab39b-dff4-4d8e-82b5-49090de27576",
   "metadata": {},
   "outputs": [],
   "source": [
    "import matplotlib\n",
    "matplotlib.rcParams[\"figure.figsize\"] = (10,5)\n",
    "plt.hist(df8.price_per_sqft,rwidth=0.8)\n",
    "plt.xlabel(\"Price Per Square Feet\")\n",
    "plt.ylabel(\"Count\")"
   ]
  },
  {
   "cell_type": "markdown",
   "id": "eb019ed7-e3ac-4f1c-9e5a-ce7aa136e81a",
   "metadata": {},
   "source": [
    "\n",
    "<span style=\"color:green; font-size:25px;\">Outlier Removal: Using Bathrooms Feature</span>"
   ]
  },
  {
   "cell_type": "markdown",
   "id": "a95e53b3-6406-4119-9cf7-01219e1f86ab",
   "metadata": {},
   "source": [
    "#### It is unusual to have \"the number of bathrooms\" greater than \"the number of bedrooms + 2\""
   ]
  },
  {
   "cell_type": "code",
   "execution_count": null,
   "id": "4fb1faab-907e-4076-8d55-75bb031ee1db",
   "metadata": {},
   "outputs": [],
   "source": [
    "df8.bath.unique()"
   ]
  },
  {
   "cell_type": "code",
   "execution_count": null,
   "id": "b71157ac-db08-4de0-ac1b-cf84d70ca196",
   "metadata": {},
   "outputs": [],
   "source": [
    "plt.hist(df8.bath,rwidth=0.8)\n",
    "plt.xlabel(\"Number of bathrooms\")\n",
    "plt.ylabel(\"Count\")"
   ]
  },
  {
   "cell_type": "code",
   "execution_count": null,
   "id": "48bec0dc-4db9-425d-8cf9-995871e9963a",
   "metadata": {},
   "outputs": [],
   "source": [
    "df8[df8.bath>10]"
   ]
  },
  {
   "cell_type": "code",
   "execution_count": null,
   "id": "8b044f8f-06a1-4d51-a35e-89fe9e91b4d9",
   "metadata": {},
   "outputs": [],
   "source": [
    "df8[df8.bath > df8.bhk + 2]"
   ]
  },
  {
   "cell_type": "code",
   "execution_count": null,
   "id": "3aba8133-1b61-4ad4-a954-5a817aa19607",
   "metadata": {},
   "outputs": [],
   "source": [
    "df9 = df8[df8.bath<df8.bhk+2]\n",
    "df9.shape"
   ]
  },
  {
   "cell_type": "code",
   "execution_count": null,
   "id": "f839d780-7e1b-44b4-9b8b-cdd8597c37e4",
   "metadata": {},
   "outputs": [],
   "source": [
    "df10 = df9.drop(['size','price_per_sqft'],axis='columns')\n",
    "df10.head()"
   ]
  },
  {
   "cell_type": "markdown",
   "id": "368aa804-47e8-41f3-b33b-8d1266d0d1d9",
   "metadata": {},
   "source": [
    "<span style=\"color:green; font-size:25px;\">One Hot Encoding for Locations</span>"
   ]
  },
  {
   "cell_type": "code",
   "execution_count": null,
   "id": "a3cf4770-1e01-4034-977b-46e43b4d6451",
   "metadata": {},
   "outputs": [],
   "source": [
    "one_hot_location = pd.get_dummies(df10.location).astype(int)\n",
    "one_hot_location.head(2)"
   ]
  },
  {
   "cell_type": "code",
   "execution_count": null,
   "id": "727ef648-d5bf-46ef-9473-cd13d003d569",
   "metadata": {},
   "outputs": [],
   "source": [
    "df11 = pd.concat([df10, one_hot_location], axis='columns')\n",
    "df11.head(2)"
   ]
  },
  {
   "cell_type": "code",
   "execution_count": null,
   "id": "2bf19eb6-5e56-4eb1-bcfb-44fca5a6f857",
   "metadata": {},
   "outputs": [],
   "source": [
    "df12 = df11.drop('location', axis='columns')\n",
    "df12.head(2)"
   ]
  },
  {
   "cell_type": "code",
   "execution_count": null,
   "id": "a9a56ddf-a77e-405b-8d92-95db1f632c33",
   "metadata": {},
   "outputs": [],
   "source": [
    "# df13 = df12.copy()\n",
    "\n",
    "# columns_to_normalize = ['total_sqft', 'bath', 'price', 'bhk']\n",
    "# scaler = StandardScaler()\n",
    "# scaled_data = scaler.fit_transform(df13[columns_to_normalize])\n",
    "# df13[columns_to_normalize] = scaled_data"
   ]
  },
  {
   "cell_type": "markdown",
   "id": "0f2f2017-22b9-454b-bf3f-b9c8a8c64e8c",
   "metadata": {},
   "source": [
    "<span style=\"color:green; font-size:25px;\">Building the model</span>"
   ]
  },
  {
   "cell_type": "code",
   "execution_count": null,
   "id": "a47986ca-3330-4009-92fa-7d9359b011e3",
   "metadata": {},
   "outputs": [],
   "source": [
    "df12.shape"
   ]
  },
  {
   "cell_type": "code",
   "execution_count": null,
   "id": "27a4102b-961b-42c5-a493-55e30383d8fd",
   "metadata": {},
   "outputs": [],
   "source": [
    "X = df12.drop(['price'],axis = 'columns')\n",
    "X.head(2)"
   ]
  },
  {
   "cell_type": "code",
   "execution_count": null,
   "id": "a214f021-57b3-416e-83ec-884f79996f55",
   "metadata": {},
   "outputs": [],
   "source": [
    "y = df12.price\n",
    "y.head()"
   ]
  },
  {
   "cell_type": "code",
   "execution_count": null,
   "id": "2ae43a5b-21bc-4d19-bdc3-001ba308c955",
   "metadata": {},
   "outputs": [],
   "source": [
    "from sklearn.model_selection import train_test_split\n",
    "X_train, X_test, y_train, y_test = train_test_split(X, y, test_size = 0.2, random_state = 62)"
   ]
  },
  {
   "cell_type": "markdown",
   "id": "32d20af9-ef7d-422f-bcac-eb5b4720dde4",
   "metadata": {},
   "source": [
    "<span style=\"color:green; font-size:25px;\">LinearRegression model</span>"
   ]
  },
  {
   "cell_type": "code",
   "execution_count": null,
   "id": "26b97228-5d28-4895-adfd-c266d823ea5d",
   "metadata": {},
   "outputs": [],
   "source": [
    "from sklearn.linear_model import LinearRegression\n",
    "lr_clf = LinearRegression()\n",
    "lr_clf.fit(X_train,y_train)\n",
    "lr_clf.score(X_test,y_test)"
   ]
  },
  {
   "cell_type": "markdown",
   "id": "b99313c1-4c55-4236-996c-96bd01b2a418",
   "metadata": {},
   "source": [
    "<span style=\"color:green; font-size:25px;\">Used K Fold cross validation to measure accuracy of the LinearRegression model</span>"
   ]
  },
  {
   "cell_type": "code",
   "execution_count": null,
   "id": "573e440c-4e42-4db6-b49d-43171124959f",
   "metadata": {},
   "outputs": [],
   "source": [
    "from sklearn.model_selection import ShuffleSplit\n",
    "from sklearn.model_selection import cross_val_score\n",
    "\n",
    "cross_val = ShuffleSplit(n_splits = 4, test_size = 0.2, random_state = 0)\n",
    "\n",
    "cross_val_score(LinearRegression(), X, y, cv = cross_val)"
   ]
  },
  {
   "cell_type": "markdown",
   "id": "bb5028a2-f353-44c8-8abc-a808afb42326",
   "metadata": {},
   "source": [
    "<span style=\"color:green; font-size:25px;\">Finding best model using GridSearchCV</span>"
   ]
  },
  {
   "cell_type": "code",
   "execution_count": null,
   "id": "7ab57296-d057-4fa1-8a9e-912ab5fe6183",
   "metadata": {},
   "outputs": [],
   "source": [
    "from sklearn.model_selection import GridSearchCV\n",
    "\n",
    "from sklearn.linear_model import Lasso\n",
    "from sklearn.tree import DecisionTreeRegressor"
   ]
  },
  {
   "cell_type": "code",
   "execution_count": null,
   "id": "9a1802fc-cb9f-4445-88c2-e1affcecc9d3",
   "metadata": {},
   "outputs": [],
   "source": [
    "def find_best_model_using_gridsearchcv(X,y):\n",
    "    algos = {\n",
    "        'linear_regression' : {\n",
    "            'model': LinearRegression(),\n",
    "            'params': {\n",
    "                'fit_intercept': [True, False]\n",
    "            }\n",
    "        },\n",
    "        'lasso': {\n",
    "            'model': Lasso(),\n",
    "            'params': {\n",
    "                'alpha': [1, 2],\n",
    "                'selection': ['random', 'cyclic']\n",
    "            }\n",
    "        },\n",
    "        'decision_tree': {\n",
    "            'model': DecisionTreeRegressor(),\n",
    "            'params': {\n",
    "                'criterion' : ['squared_error', 'friedman_mse'],\n",
    "                'splitter': ['best', 'random']\n",
    "            }\n",
    "        }\n",
    "    }\n",
    "    scores = []\n",
    "    cv = ShuffleSplit(n_splits = 5, test_size = 0.2, random_state = 0)\n",
    "    for algo_name, config in algos.items():\n",
    "        gs =  GridSearchCV(config['model'], config['params'], cv = cv, return_train_score = False)\n",
    "        gs.fit(X,y)\n",
    "        scores.append({\n",
    "            'model': algo_name,\n",
    "            'best_score': gs.best_score_,\n",
    "            'best_params': gs.best_params_\n",
    "        })\n",
    "\n",
    "    return pd.DataFrame(scores,columns=['model', 'best_score', 'best_params'])\n",
    "\n",
    "find_best_model_using_gridsearchcv(X,y)"
   ]
  },
  {
   "cell_type": "markdown",
   "id": "870cad2b-5f87-41aa-8513-af6998be0282",
   "metadata": {},
   "source": [
    "<span style=\"color:green; font-size:25px;\">Testing the model for a few properties</span>"
   ]
  },
  {
   "cell_type": "code",
   "execution_count": null,
   "id": "ccd5eb3a-d1bb-4b4b-bc78-8e6a1560241c",
   "metadata": {},
   "outputs": [],
   "source": [
    "def predict_price(location,sqft,bath,bhk):    \n",
    "    loc_index = np.where(X.columns==location)[0][0]\n",
    "\n",
    "    x = np.zeros(len(X.columns))\n",
    "    x[0] = sqft\n",
    "    x[1] = bath\n",
    "    x[2] = bhk\n",
    "    if loc_index >= 0:\n",
    "        x[loc_index] = 1\n",
    "\n",
    "    # Created a DataFrame with the same feature names as the training data\n",
    "    input_data = pd.DataFrame([x], columns=X.columns)\n",
    "    \n",
    "    price = lr_clf.predict(input_data)[0] * 10\n",
    "    return f\"{price:.2f} million\""
   ]
  },
  {
   "cell_type": "code",
   "execution_count": null,
   "id": "8bda49a8-3c0d-482f-a71c-14833546fe10",
   "metadata": {},
   "outputs": [],
   "source": [
    "predict_price('Whitefield',1000, 2, 2)"
   ]
  },
  {
   "cell_type": "code",
   "execution_count": null,
   "id": "926a87e0-55f7-4723-81b0-b4b2e3377d66",
   "metadata": {},
   "outputs": [],
   "source": [
    "predict_price('Whitefield',1000, 3, 3)"
   ]
  },
  {
   "cell_type": "code",
   "execution_count": null,
   "id": "b6bb8dbc-39b5-4a64-b081-3960c07471c0",
   "metadata": {},
   "outputs": [],
   "source": [
    "predict_price('Hebbal',1000, 2, 2)"
   ]
  },
  {
   "cell_type": "code",
   "execution_count": null,
   "id": "4af5fa7b-9692-4b73-919b-0898d53b3098",
   "metadata": {},
   "outputs": [],
   "source": [
    "predict_price('Hebbal',1000, 3, 3)"
   ]
  },
  {
   "cell_type": "markdown",
   "id": "0a83d7c8-1426-4a6a-a6cd-e68a7d97c71d",
   "metadata": {},
   "source": [
    "#### Export the tested model to a pickle file"
   ]
  },
  {
   "cell_type": "code",
   "execution_count": null,
   "id": "6fb0eb12-44d4-46a3-941e-83d729617f17",
   "metadata": {},
   "outputs": [],
   "source": [
    "import pickle\n",
    "with open('house_price_model.pickle','wb') as f:\n",
    "    pickle.dump(lr_clf, f)\n"
   ]
  },
  {
   "cell_type": "markdown",
   "id": "b2a858e7-35a1-43ae-8ff7-c8448d415813",
   "metadata": {},
   "source": [
    "#### Export location and column information to a file that will be useful later on in our prediction application"
   ]
  },
  {
   "cell_type": "code",
   "execution_count": null,
   "id": "3715ff2b-1ded-47da-9110-698f2d0b5466",
   "metadata": {},
   "outputs": [],
   "source": [
    "import json\n",
    "columns = {\n",
    "    'data_columns' : [col.lower() for col in X.columns]\n",
    "}\n",
    "with open(\"columns.json\", \"w\") as f:\n",
    "    f.write(json.dumps(columns))"
   ]
  },
  {
   "cell_type": "code",
   "execution_count": null,
   "id": "cb309b68-3da0-4e83-ab79-881f10f42a6f",
   "metadata": {},
   "outputs": [],
   "source": []
  },
  {
   "cell_type": "code",
   "execution_count": null,
   "id": "35372df4-aa50-420c-9666-11412db4742b",
   "metadata": {},
   "outputs": [],
   "source": []
  },
  {
   "cell_type": "code",
   "execution_count": null,
   "id": "1f33491c-d435-4268-a752-fc50f202ed3f",
   "metadata": {},
   "outputs": [],
   "source": []
  }
 ],
 "metadata": {
  "kernelspec": {
   "display_name": "Python 3 (ipykernel)",
   "language": "python",
   "name": "python3"
  },
  "language_info": {
   "codemirror_mode": {
    "name": "ipython",
    "version": 3
   },
   "file_extension": ".py",
   "mimetype": "text/x-python",
   "name": "python",
   "nbconvert_exporter": "python",
   "pygments_lexer": "ipython3",
   "version": "3.10.6"
  }
 },
 "nbformat": 4,
 "nbformat_minor": 5
}
